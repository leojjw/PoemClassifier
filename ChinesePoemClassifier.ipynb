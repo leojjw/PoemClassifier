{
 "cells": [
  {
   "cell_type": "code",
   "execution_count": 41,
   "id": "9638967f-db5b-425e-9c5b-167b2d871165",
   "metadata": {},
   "outputs": [
    {
     "data": {
      "text/plain": [
       "<torch._C.Generator at 0x2ac15d34690>"
      ]
     },
     "execution_count": 41,
     "metadata": {},
     "output_type": "execute_result"
    }
   ],
   "source": [
    "import torch\n",
    "import torch.nn as nn\n",
    "import torch.nn.functional as F\n",
    "\n",
    "import random\n",
    "import numpy as np\n",
    "\n",
    "from tqdm import tqdm\n",
    "\n",
    "device = torch.device(\"cuda\")\n",
    "\n",
    "random.seed(1)\n",
    "np.random.seed(1)\n",
    "torch.manual_seed(1)"
   ]
  },
  {
   "cell_type": "code",
   "execution_count": 42,
   "id": "408f1a0a-afb3-4c8c-968e-2a037bc6c6ff",
   "metadata": {},
   "outputs": [],
   "source": [
    "word2idx = {\"<unk>\": 0}\n",
    "label2idx = {}\n",
    "idx2word = [\"<unk>\"]\n",
    "idx2label = []\n",
    "\n",
    "train_data = []\n",
    "with open('train.txt', 'rt', encoding='UTF8') as f:\n",
    "    for line in f:\n",
    "        text, author = line.strip().split()\n",
    "        for c in text:\n",
    "            if c not in word2idx:\n",
    "                word2idx[c] = len(idx2word)\n",
    "                idx2word.append(c)\n",
    "        if author not in label2idx:\n",
    "            label2idx[author] = len(idx2label)\n",
    "            idx2label.append(author)\n",
    "        train_data.append((text, author))\n",
    "\n",
    "valid_data = []\n",
    "with open(\"valid.txt\", 'rt', encoding='UTF8') as f:\n",
    "    for line in f:\n",
    "        text, author = line.strip().split()\n",
    "        valid_data.append((text, author))\n",
    "\n",
    "test_data = []\n",
    "with open(\"test.txt\", 'rt', encoding='UTF8') as f:\n",
    "    for line in f:\n",
    "        text, author = line.strip().split()\n",
    "        test_data.append((text, author))"
   ]
  },
  {
   "cell_type": "code",
   "execution_count": 43,
   "id": "b1977f00-e7ad-43e8-8a5a-689fdb515c1f",
   "metadata": {},
   "outputs": [
    {
     "name": "stdout",
     "output_type": "stream",
     "text": [
      "4941 4941 5 5\n",
      "11271 1408 1410\n"
     ]
    }
   ],
   "source": [
    "print(len(word2idx), len(idx2word), len(label2idx), len(idx2label))\n",
    "print(len(train_data), len(valid_data), len(test_data))"
   ]
  },
  {
   "cell_type": "code",
   "execution_count": 44,
   "id": "68e13c2f-064b-42a0-8f00-d39da3fff1a2",
   "metadata": {},
   "outputs": [],
   "source": [
    "def make_data(text, author):\n",
    "    \"\"\"\n",
    "    input\n",
    "        text: str\n",
    "        author: str\n",
    "    output\n",
    "        x: LongTensor, shape = (1, text_length)\n",
    "        y: LongTensor, shape = (1,)\n",
    "    \"\"\"\n",
    "    \n",
    "    x = torch.LongTensor([word2idx[text[i]] if text[i] in word2idx else 0 for i in range(len(text))])\n",
    "    y = torch.LongTensor([label2idx[author]])\n",
    "    \n",
    "    return x, y"
   ]
  },
  {
   "cell_type": "code",
   "execution_count": 124,
   "id": "596a5c0b-9d6d-4166-ae52-a68f7490ca43",
   "metadata": {},
   "outputs": [],
   "source": [
    "class LSTM(nn.Module):\n",
    "    def __init__(self, input_size, hidden_size):\n",
    "        super(LSTM, self).__init__()\n",
    "        self.input_size = input_size\n",
    "        self.hidden_size = hidden_size\n",
    "        self.f = nn.Linear(input_size + hidden_size, hidden_size)\n",
    "        self.i = nn.Linear(input_size + hidden_size, hidden_size)\n",
    "        self.o = nn.Linear(input_size + hidden_size, hidden_size)\n",
    "        self.g = nn.Linear(input_size + hidden_size, hidden_size)\n",
    "    \n",
    "    def forward(self, ht, ct, xt):\n",
    "        # ht: 1 * hidden_size\n",
    "        # ct: 1 * hidden_size\n",
    "        # xt: 1 * input_size\n",
    "        input_combined = torch.cat((xt, ht), 1)\n",
    "        ft = torch.sigmoid(self.f(input_combined))\n",
    "        it = torch.sigmoid(self.i(input_combined))\n",
    "        ot = torch.sigmoid(self.o(input_combined))\n",
    "        gt = torch.tanh(self.g(input_combined))\n",
    "        ct = ft * ct + it * gt\n",
    "        ht = ot * torch.tanh(ct)\n",
    "        return ht, ct"
   ]
  },
  {
   "cell_type": "code",
   "execution_count": 143,
   "id": "8a27bc3e-5c90-4af2-b842-9eb4d5fc0550",
   "metadata": {},
   "outputs": [],
   "source": [
    "class BiLSTM(nn.Module):\n",
    "    def __init__(self, input_size, hidden_size):\n",
    "        super(BiLSTM, self).__init__()\n",
    "        self.hidden_size = hidden_size // 2\n",
    "        self.lstm_forward = LSTM(input_size, hidden_size // 2)\n",
    "        self.lstm_backward = LSTM(input_size, hidden_size // 2)\n",
    "        self.register_buffer(\"_float\", torch.zeros(1, hidden_size))\n",
    "    \n",
    "    def init_h_and_c(self):\n",
    "        h = torch.zeros_like(self._float)\n",
    "        c = torch.zeros_like(self._float)\n",
    "        return h, c\n",
    "    \n",
    "    def forward(self, x):\n",
    "        \"\"\"\n",
    "        input\n",
    "            x: 1 * length * input_size\n",
    "        output\n",
    "            hiddens\n",
    "        \"\"\"\n",
    "        hf, cf = self.init_h_and_c()\n",
    "        hf, cf = hf[0:1, :self.hidden_size], cf[0:1, :self.hidden_size]\n",
    "        hiddens = []\n",
    "        for i in range(x.shape[1]):\n",
    "            hf, cf = self.lstm_forward(hf, cf, x[0, i:i+1,:])\n",
    "            hb, cb = self.lstm_backward(hf, cf, x[0, i:i+1,:])\n",
    "            hiddens.append(torch.cat((hf, hb), 1))\n",
    "        hiddens = torch.stack(hiddens, dim=1)\n",
    "        return hiddens"
   ]
  },
  {
   "cell_type": "code",
   "execution_count": 159,
   "id": "0122d8c3-ba8e-4b02-a9ae-8e06102ddcdd",
   "metadata": {},
   "outputs": [],
   "source": [
    "class Attention(nn.Module):\n",
    "    def __init__(self, hidden_size):\n",
    "        super(Attention, self).__init__()\n",
    "        self.lin = nn.Linear(hidden_size, hidden_size, bias=False)\n",
    "    \n",
    "    def forward(self, hiddens):\n",
    "        \"\"\"\n",
    "        input\n",
    "            hiddens: 1 * length * hidden_size\n",
    "        output\n",
    "            attn_outputs: 1 * hidden_size\n",
    "        \"\"\"\n",
    "        q = self.lin(hiddens[0:1,-1,:]).unsqueeze(-1)\n",
    "        attn_scores = torch.bmm(hiddens, q)\n",
    "        weights = F.softmax(attn_scores, dim=1)\n",
    "        attn_outputs = (weights * hiddens).sum(1)\n",
    "        return attn_outputs"
   ]
  },
  {
   "cell_type": "markdown",
   "id": "6b62bbf4-b565-4ec2-aebb-1d5fcbb7e048",
   "metadata": {},
   "source": [
    "Model Structure：Embedding – BiLSTM – Attention – Linear – LogSoftmax"
   ]
  },
  {
   "cell_type": "code",
   "execution_count": 178,
   "id": "e90edb70-7c1d-4839-9f0b-c8e8dbf9a8ee",
   "metadata": {},
   "outputs": [],
   "source": [
    "class EncoderRNN(nn.Module):\n",
    "    def __init__(self, num_vocab, embedding_dim, hidden_size, num_classes):\n",
    "        super(EncoderRNN, self).__init__()\n",
    "        self.num_vocab = num_vocab\n",
    "        self.embedding_dim = embedding_dim\n",
    "        self.hidden_size = hidden_size\n",
    "        self.num_classes = num_classes\n",
    "        \n",
    "        self.embed = nn.Embedding(num_vocab, embedding_dim)\n",
    "        self.bilstm = BiLSTM(embedding_dim, hidden_size)\n",
    "        self.attn = Attention(hidden_size)\n",
    "        \n",
    "        self.h2o = nn.Linear(hidden_size + hidden_size, num_classes)\n",
    "        self.softmax = nn.LogSoftmax(dim=-1)\n",
    "    \n",
    "    def forward(self, x):\n",
    "        \"\"\"\n",
    "        input\n",
    "            x: 1 * length, LongTensor\n",
    "        output\n",
    "            outputs\n",
    "        \"\"\"\n",
    "        embeddings = []\n",
    "        for i in range(len(x)):\n",
    "            embedding = self.embed(x[i])\n",
    "            embeddings.append(embedding)\n",
    "        embeddings = torch.stack(embeddings, dim=0) \n",
    "        hiddens = self.bilstm(embeddings)\n",
    "        attn_output = self.attn(hiddens)\n",
    "        outputs = self.h2o(torch.cat((attn_output, hiddens[0:1,-1,:]), dim=-1))\n",
    "        outputs = self.softmax(outputs)\n",
    "        return outputs"
   ]
  },
  {
   "cell_type": "code",
   "execution_count": 49,
   "id": "56a57606-cbbd-4532-bbac-8cb974fac21d",
   "metadata": {},
   "outputs": [],
   "source": [
    "def collate(data_list):\n",
    "    src = [_[0] for _ in data_list]\n",
    "    tgt = [_[1] for _ in data_list]\n",
    "    return src, tgt\n",
    "\n",
    "batch_size = 16\n",
    "trainloader = torch.utils.data.DataLoader([\n",
    "    make_data(text, label) for text, label in train_data\n",
    "], batch_size=batch_size, shuffle=True, collate_fn=collate)\n",
    "validloader = torch.utils.data.DataLoader([\n",
    "    make_data(text, label) for text, label in valid_data\n",
    "], batch_size=batch_size, shuffle=False, collate_fn=collate)\n",
    "testloader = torch.utils.data.DataLoader([\n",
    "    make_data(text, label) for text, label in test_data\n",
    "], batch_size=batch_size, shuffle=False, collate_fn=collate)"
   ]
  },
  {
   "cell_type": "code",
   "execution_count": 50,
   "id": "73778638",
   "metadata": {},
   "outputs": [],
   "source": [
    "device = torch.device('cuda' if torch.cuda.is_available() else 'cpu')"
   ]
  },
  {
   "cell_type": "code",
   "execution_count": 196,
   "id": "c3ba0d4b",
   "metadata": {},
   "outputs": [],
   "source": [
    "def train_loop(model, optimizer, criterion, loader):\n",
    "    model.train()\n",
    "    epoch_loss = 0.0\n",
    "    for src, tgt in tqdm(loader):\n",
    "        B = len(src)\n",
    "        loss = 0.0\n",
    "        for _ in range(B):\n",
    "            _src = src[_].unsqueeze(0).to(device)\n",
    "            output = model(_src)\n",
    "            loss += criterion(output, tgt[_])\n",
    "        loss /= B\n",
    "        optimizer.zero_grad()\n",
    "        loss.backward()\n",
    "        torch.nn.utils.clip_grad_norm_(model.parameters(), 1)\n",
    "        optimizer.step()\n",
    "        epoch_loss += loss.item()\n",
    "    epoch_loss /= len(loader)\n",
    "    return epoch_loss\n",
    "\n",
    "def test_loop(model, loader):\n",
    "    total_acc = 0.0\n",
    "    total_cnt = 0\n",
    "    outputs = []\n",
    "    for src, tgt in tqdm(loader):\n",
    "        B = len(src)\n",
    "        for _ in range(B):\n",
    "            _src = src[_].unsqueeze(0).to(device)\n",
    "            output = model(_src).argmax(1)\n",
    "            outputs.append(output.item())\n",
    "            if output == tgt[_]:\n",
    "                total_acc += 1\n",
    "            total_cnt += 1\n",
    "    return total_acc / total_cnt, outputs"
   ]
  },
  {
   "cell_type": "code",
   "execution_count": 197,
   "id": "736cfb21",
   "metadata": {},
   "outputs": [
    {
     "name": "stderr",
     "output_type": "stream",
     "text": [
      "100%|████████████████████████████████████████████████████████████████████████████████| 705/705 [19:20<00:00,  1.65s/it]\n",
      "100%|██████████████████████████████████████████████████████████████████████████████████| 88/88 [00:47<00:00,  1.86it/s]\n"
     ]
    },
    {
     "name": "stdout",
     "output_type": "stream",
     "text": [
      "Epoch 0: loss = 1.3386044781258766, valid accuracy = 0.5490056818181818\n"
     ]
    },
    {
     "name": "stderr",
     "output_type": "stream",
     "text": [
      "100%|████████████████████████████████████████████████████████████████████████████████| 705/705 [16:25<00:00,  1.40s/it]\n",
      "100%|██████████████████████████████████████████████████████████████████████████████████| 88/88 [00:36<00:00,  2.41it/s]\n"
     ]
    },
    {
     "name": "stdout",
     "output_type": "stream",
     "text": [
      "Epoch 1: loss = 1.0391498630773937, valid accuracy = 0.5838068181818182\n"
     ]
    },
    {
     "name": "stderr",
     "output_type": "stream",
     "text": [
      "100%|████████████████████████████████████████████████████████████████████████████████| 705/705 [16:59<00:00,  1.45s/it]\n",
      "100%|██████████████████████████████████████████████████████████████████████████████████| 88/88 [00:43<00:00,  2.03it/s]"
     ]
    },
    {
     "name": "stdout",
     "output_type": "stream",
     "text": [
      "Epoch 2: loss = 0.8146614053359268, valid accuracy = 0.5951704545454546\n"
     ]
    },
    {
     "name": "stderr",
     "output_type": "stream",
     "text": [
      "\n"
     ]
    }
   ],
   "source": [
    "num_vocab = len(word2idx) \n",
    "num_classes = len(label2idx)\n",
    "hidden_size = 128\n",
    "embedding_dim = 256\n",
    "model = EncoderRNN(num_vocab, embedding_dim, hidden_size, num_classes)\n",
    "model.to(device)\n",
    "optimizer = torch.optim.SGD(model.parameters(), lr=1)\n",
    "criterion = nn.CrossEntropyLoss()\n",
    "\n",
    "best_score = 0.0\n",
    "for epoch in range(3):\n",
    "    loss = train_loop(model, optimizer, criterion, trainloader)\n",
    "    acc, _ = test_loop(model, validloader)\n",
    "    if acc > best_score:\n",
    "        torch.save(model.state_dict(), \"model_best.pt\")\n",
    "        best_score = acc\n",
    "    print(f\"Epoch {epoch}: loss = {loss}, valid accuracy = {acc}\")"
   ]
  },
  {
   "cell_type": "code",
   "execution_count": 198,
   "id": "21e39548",
   "metadata": {},
   "outputs": [
    {
     "name": "stderr",
     "output_type": "stream",
     "text": [
      "100%|██████████████████████████████████████████████████████████████████████████████████| 89/89 [00:45<00:00,  1.94it/s]"
     ]
    },
    {
     "name": "stdout",
     "output_type": "stream",
     "text": [
      "Test accuracy = 0.642290780141844\n",
      "[[ 42  32  39  20  27]\n",
      " [  8 339  26  21  20]\n",
      " [ 21  56 341  34  16]\n",
      " [ 14  42  46 111  24]\n",
      " [ 10  22  29  28  42]]\n"
     ]
    },
    {
     "name": "stderr",
     "output_type": "stream",
     "text": [
      "\n"
     ]
    }
   ],
   "source": [
    "model.load_state_dict(torch.load(\"model_best.pt\"))\n",
    "acc, predictions = test_loop(model, testloader)\n",
    "print(f\"Test accuracy = {acc}\")\n",
    "test = []\n",
    "for batch in testloader:\n",
    "    for i in batch[1]:\n",
    "        test.append(i[0].item())\n",
    "from sklearn.metrics import confusion_matrix\n",
    "from sklearn.metrics import precision_recall_fscore_support\n",
    "print(confusion_matrix(test, predictions))"
   ]
  }
 ],
 "metadata": {
  "kernelspec": {
   "display_name": "Python 3 (ipykernel)",
   "language": "python",
   "name": "python3"
  },
  "language_info": {
   "codemirror_mode": {
    "name": "ipython",
    "version": 3
   },
   "file_extension": ".py",
   "mimetype": "text/x-python",
   "name": "python",
   "nbconvert_exporter": "python",
   "pygments_lexer": "ipython3",
   "version": "3.9.7"
  }
 },
 "nbformat": 4,
 "nbformat_minor": 5
}
